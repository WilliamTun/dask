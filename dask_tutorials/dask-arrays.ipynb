{
 "cells": [
  {
   "cell_type": "code",
   "execution_count": 47,
   "metadata": {},
   "outputs": [],
   "source": [
    "import dask.dataframe as daskdf\n",
    "import dask.array as da\n",
    "import pandas as pd"
   ]
  },
  {
   "cell_type": "markdown",
   "metadata": {},
   "source": [
    "# randomly generate dask array"
   ]
  },
  {
   "cell_type": "code",
   "execution_count": 37,
   "metadata": {},
   "outputs": [],
   "source": [
    "x = da.random.random((10, 5), chunks=(2, 2)) # 10 by 5 array, partitioned into 2 by 2"
   ]
  },
  {
   "cell_type": "code",
   "execution_count": 38,
   "metadata": {},
   "outputs": [
    {
     "data": {
      "text/plain": [
       "array([[0.99629746, 0.16409777, 0.22680353, 0.75350057, 0.939182  ],\n",
       "       [0.87918309, 0.43229732, 0.98222631, 0.54707305, 0.32218534],\n",
       "       [0.17705935, 0.32080152, 0.63076997, 0.91587806, 0.11711293],\n",
       "       [0.89760352, 0.4182951 , 0.34324663, 0.63590565, 0.65903146],\n",
       "       [0.86656831, 0.66955252, 0.77308568, 0.44463939, 0.2252608 ],\n",
       "       [0.69912354, 0.77240168, 0.55381344, 0.83582001, 0.68247869],\n",
       "       [0.72775312, 0.40648311, 0.63605874, 0.16287378, 0.75578071],\n",
       "       [0.85774255, 0.54591585, 0.01802349, 0.94643708, 0.56647888],\n",
       "       [0.8812822 , 0.83325071, 0.47076871, 0.56122592, 0.4935374 ],\n",
       "       [0.33726477, 0.50274395, 0.57507604, 0.91988615, 0.4666092 ]])"
      ]
     },
     "execution_count": 38,
     "metadata": {},
     "output_type": "execute_result"
    }
   ],
   "source": [
    "x.compute()"
   ]
  },
  {
   "cell_type": "markdown",
   "metadata": {},
   "source": [
    "# dask dataframe and pandas"
   ]
  },
  {
   "cell_type": "code",
   "execution_count": 43,
   "metadata": {},
   "outputs": [
    {
     "data": {
      "text/html": [
       "<div>\n",
       "<style scoped>\n",
       "    .dataframe tbody tr th:only-of-type {\n",
       "        vertical-align: middle;\n",
       "    }\n",
       "\n",
       "    .dataframe tbody tr th {\n",
       "        vertical-align: top;\n",
       "    }\n",
       "\n",
       "    .dataframe thead th {\n",
       "        text-align: right;\n",
       "    }\n",
       "</style>\n",
       "<table border=\"1\" class=\"dataframe\">\n",
       "  <thead>\n",
       "    <tr style=\"text-align: right;\">\n",
       "      <th></th>\n",
       "      <th>0</th>\n",
       "      <th>1</th>\n",
       "      <th>2</th>\n",
       "      <th>3</th>\n",
       "      <th>4</th>\n",
       "    </tr>\n",
       "  </thead>\n",
       "  <tbody>\n",
       "    <tr>\n",
       "      <th>0</th>\n",
       "      <td>0.996297</td>\n",
       "      <td>0.164098</td>\n",
       "      <td>0.226804</td>\n",
       "      <td>0.753501</td>\n",
       "      <td>0.939182</td>\n",
       "    </tr>\n",
       "    <tr>\n",
       "      <th>1</th>\n",
       "      <td>0.879183</td>\n",
       "      <td>0.432297</td>\n",
       "      <td>0.982226</td>\n",
       "      <td>0.547073</td>\n",
       "      <td>0.322185</td>\n",
       "    </tr>\n",
       "    <tr>\n",
       "      <th>2</th>\n",
       "      <td>0.177059</td>\n",
       "      <td>0.320802</td>\n",
       "      <td>0.630770</td>\n",
       "      <td>0.915878</td>\n",
       "      <td>0.117113</td>\n",
       "    </tr>\n",
       "    <tr>\n",
       "      <th>3</th>\n",
       "      <td>0.897604</td>\n",
       "      <td>0.418295</td>\n",
       "      <td>0.343247</td>\n",
       "      <td>0.635906</td>\n",
       "      <td>0.659031</td>\n",
       "    </tr>\n",
       "    <tr>\n",
       "      <th>4</th>\n",
       "      <td>0.866568</td>\n",
       "      <td>0.669553</td>\n",
       "      <td>0.773086</td>\n",
       "      <td>0.444639</td>\n",
       "      <td>0.225261</td>\n",
       "    </tr>\n",
       "    <tr>\n",
       "      <th>5</th>\n",
       "      <td>0.699124</td>\n",
       "      <td>0.772402</td>\n",
       "      <td>0.553813</td>\n",
       "      <td>0.835820</td>\n",
       "      <td>0.682479</td>\n",
       "    </tr>\n",
       "    <tr>\n",
       "      <th>6</th>\n",
       "      <td>0.727753</td>\n",
       "      <td>0.406483</td>\n",
       "      <td>0.636059</td>\n",
       "      <td>0.162874</td>\n",
       "      <td>0.755781</td>\n",
       "    </tr>\n",
       "    <tr>\n",
       "      <th>7</th>\n",
       "      <td>0.857743</td>\n",
       "      <td>0.545916</td>\n",
       "      <td>0.018023</td>\n",
       "      <td>0.946437</td>\n",
       "      <td>0.566479</td>\n",
       "    </tr>\n",
       "    <tr>\n",
       "      <th>8</th>\n",
       "      <td>0.881282</td>\n",
       "      <td>0.833251</td>\n",
       "      <td>0.470769</td>\n",
       "      <td>0.561226</td>\n",
       "      <td>0.493537</td>\n",
       "    </tr>\n",
       "    <tr>\n",
       "      <th>9</th>\n",
       "      <td>0.337265</td>\n",
       "      <td>0.502744</td>\n",
       "      <td>0.575076</td>\n",
       "      <td>0.919886</td>\n",
       "      <td>0.466609</td>\n",
       "    </tr>\n",
       "  </tbody>\n",
       "</table>\n",
       "</div>"
      ],
      "text/plain": [
       "          0         1         2         3         4\n",
       "0  0.996297  0.164098  0.226804  0.753501  0.939182\n",
       "1  0.879183  0.432297  0.982226  0.547073  0.322185\n",
       "2  0.177059  0.320802  0.630770  0.915878  0.117113\n",
       "3  0.897604  0.418295  0.343247  0.635906  0.659031\n",
       "4  0.866568  0.669553  0.773086  0.444639  0.225261\n",
       "5  0.699124  0.772402  0.553813  0.835820  0.682479\n",
       "6  0.727753  0.406483  0.636059  0.162874  0.755781\n",
       "7  0.857743  0.545916  0.018023  0.946437  0.566479\n",
       "8  0.881282  0.833251  0.470769  0.561226  0.493537\n",
       "9  0.337265  0.502744  0.575076  0.919886  0.466609"
      ]
     },
     "execution_count": 43,
     "metadata": {},
     "output_type": "execute_result"
    }
   ],
   "source": [
    "panda = pd.DataFrame(x.compute())\n",
    "panda"
   ]
  },
  {
   "cell_type": "code",
   "execution_count": 49,
   "metadata": {},
   "outputs": [
    {
     "data": {
      "text/html": [
       "<div><strong>Dask DataFrame Structure:</strong></div>\n",
       "<div>\n",
       "<style scoped>\n",
       "    .dataframe tbody tr th:only-of-type {\n",
       "        vertical-align: middle;\n",
       "    }\n",
       "\n",
       "    .dataframe tbody tr th {\n",
       "        vertical-align: top;\n",
       "    }\n",
       "\n",
       "    .dataframe thead th {\n",
       "        text-align: right;\n",
       "    }\n",
       "</style>\n",
       "<table border=\"1\" class=\"dataframe\">\n",
       "  <thead>\n",
       "    <tr style=\"text-align: right;\">\n",
       "      <th></th>\n",
       "      <th>0</th>\n",
       "      <th>1</th>\n",
       "      <th>2</th>\n",
       "      <th>3</th>\n",
       "      <th>4</th>\n",
       "    </tr>\n",
       "    <tr>\n",
       "      <th>npartitions=2</th>\n",
       "      <th></th>\n",
       "      <th></th>\n",
       "      <th></th>\n",
       "      <th></th>\n",
       "      <th></th>\n",
       "    </tr>\n",
       "  </thead>\n",
       "  <tbody>\n",
       "    <tr>\n",
       "      <th>0</th>\n",
       "      <td>float64</td>\n",
       "      <td>float64</td>\n",
       "      <td>float64</td>\n",
       "      <td>float64</td>\n",
       "      <td>float64</td>\n",
       "    </tr>\n",
       "    <tr>\n",
       "      <th>5</th>\n",
       "      <td>...</td>\n",
       "      <td>...</td>\n",
       "      <td>...</td>\n",
       "      <td>...</td>\n",
       "      <td>...</td>\n",
       "    </tr>\n",
       "    <tr>\n",
       "      <th>9</th>\n",
       "      <td>...</td>\n",
       "      <td>...</td>\n",
       "      <td>...</td>\n",
       "      <td>...</td>\n",
       "      <td>...</td>\n",
       "    </tr>\n",
       "  </tbody>\n",
       "</table>\n",
       "</div>\n",
       "<div>Dask Name: from_pandas, 2 tasks</div>"
      ],
      "text/plain": [
       "Dask DataFrame Structure:\n",
       "                     0        1        2        3        4\n",
       "npartitions=2                                             \n",
       "0              float64  float64  float64  float64  float64\n",
       "5                  ...      ...      ...      ...      ...\n",
       "9                  ...      ...      ...      ...      ...\n",
       "Dask Name: from_pandas, 2 tasks"
      ]
     },
     "execution_count": 49,
     "metadata": {},
     "output_type": "execute_result"
    }
   ],
   "source": [
    "df = daskdf.from_pandas(panda, npartitions=2)\n",
    "df"
   ]
  },
  {
   "cell_type": "code",
   "execution_count": 52,
   "metadata": {},
   "outputs": [
    {
     "data": {
      "text/html": [
       "<div>\n",
       "<style scoped>\n",
       "    .dataframe tbody tr th:only-of-type {\n",
       "        vertical-align: middle;\n",
       "    }\n",
       "\n",
       "    .dataframe tbody tr th {\n",
       "        vertical-align: top;\n",
       "    }\n",
       "\n",
       "    .dataframe thead th {\n",
       "        text-align: right;\n",
       "    }\n",
       "</style>\n",
       "<table border=\"1\" class=\"dataframe\">\n",
       "  <thead>\n",
       "    <tr style=\"text-align: right;\">\n",
       "      <th></th>\n",
       "      <th>0</th>\n",
       "      <th>1</th>\n",
       "      <th>2</th>\n",
       "      <th>3</th>\n",
       "      <th>4</th>\n",
       "    </tr>\n",
       "  </thead>\n",
       "  <tbody>\n",
       "    <tr>\n",
       "      <th>0</th>\n",
       "      <td>0.996297</td>\n",
       "      <td>0.164098</td>\n",
       "      <td>0.226804</td>\n",
       "      <td>0.753501</td>\n",
       "      <td>0.939182</td>\n",
       "    </tr>\n",
       "    <tr>\n",
       "      <th>1</th>\n",
       "      <td>0.879183</td>\n",
       "      <td>0.432297</td>\n",
       "      <td>0.982226</td>\n",
       "      <td>0.547073</td>\n",
       "      <td>0.322185</td>\n",
       "    </tr>\n",
       "    <tr>\n",
       "      <th>2</th>\n",
       "      <td>0.177059</td>\n",
       "      <td>0.320802</td>\n",
       "      <td>0.630770</td>\n",
       "      <td>0.915878</td>\n",
       "      <td>0.117113</td>\n",
       "    </tr>\n",
       "    <tr>\n",
       "      <th>3</th>\n",
       "      <td>0.897604</td>\n",
       "      <td>0.418295</td>\n",
       "      <td>0.343247</td>\n",
       "      <td>0.635906</td>\n",
       "      <td>0.659031</td>\n",
       "    </tr>\n",
       "    <tr>\n",
       "      <th>4</th>\n",
       "      <td>0.866568</td>\n",
       "      <td>0.669553</td>\n",
       "      <td>0.773086</td>\n",
       "      <td>0.444639</td>\n",
       "      <td>0.225261</td>\n",
       "    </tr>\n",
       "    <tr>\n",
       "      <th>5</th>\n",
       "      <td>0.699124</td>\n",
       "      <td>0.772402</td>\n",
       "      <td>0.553813</td>\n",
       "      <td>0.835820</td>\n",
       "      <td>0.682479</td>\n",
       "    </tr>\n",
       "    <tr>\n",
       "      <th>6</th>\n",
       "      <td>0.727753</td>\n",
       "      <td>0.406483</td>\n",
       "      <td>0.636059</td>\n",
       "      <td>0.162874</td>\n",
       "      <td>0.755781</td>\n",
       "    </tr>\n",
       "    <tr>\n",
       "      <th>7</th>\n",
       "      <td>0.857743</td>\n",
       "      <td>0.545916</td>\n",
       "      <td>0.018023</td>\n",
       "      <td>0.946437</td>\n",
       "      <td>0.566479</td>\n",
       "    </tr>\n",
       "    <tr>\n",
       "      <th>8</th>\n",
       "      <td>0.881282</td>\n",
       "      <td>0.833251</td>\n",
       "      <td>0.470769</td>\n",
       "      <td>0.561226</td>\n",
       "      <td>0.493537</td>\n",
       "    </tr>\n",
       "    <tr>\n",
       "      <th>9</th>\n",
       "      <td>0.337265</td>\n",
       "      <td>0.502744</td>\n",
       "      <td>0.575076</td>\n",
       "      <td>0.919886</td>\n",
       "      <td>0.466609</td>\n",
       "    </tr>\n",
       "  </tbody>\n",
       "</table>\n",
       "</div>"
      ],
      "text/plain": [
       "          0         1         2         3         4\n",
       "0  0.996297  0.164098  0.226804  0.753501  0.939182\n",
       "1  0.879183  0.432297  0.982226  0.547073  0.322185\n",
       "2  0.177059  0.320802  0.630770  0.915878  0.117113\n",
       "3  0.897604  0.418295  0.343247  0.635906  0.659031\n",
       "4  0.866568  0.669553  0.773086  0.444639  0.225261\n",
       "5  0.699124  0.772402  0.553813  0.835820  0.682479\n",
       "6  0.727753  0.406483  0.636059  0.162874  0.755781\n",
       "7  0.857743  0.545916  0.018023  0.946437  0.566479\n",
       "8  0.881282  0.833251  0.470769  0.561226  0.493537\n",
       "9  0.337265  0.502744  0.575076  0.919886  0.466609"
      ]
     },
     "execution_count": 52,
     "metadata": {},
     "output_type": "execute_result"
    }
   ],
   "source": [
    "df.compute()"
   ]
  },
  {
   "cell_type": "markdown",
   "metadata": {},
   "source": [
    "# dask dataframe to dask array"
   ]
  },
  {
   "cell_type": "code",
   "execution_count": 55,
   "metadata": {},
   "outputs": [
    {
     "data": {
      "text/plain": [
       "array([[0.99629746, 0.16409777, 0.22680353, 0.75350057, 0.939182  ],\n",
       "       [0.87918309, 0.43229732, 0.98222631, 0.54707305, 0.32218534],\n",
       "       [0.17705935, 0.32080152, 0.63076997, 0.91587806, 0.11711293],\n",
       "       [0.89760352, 0.4182951 , 0.34324663, 0.63590565, 0.65903146],\n",
       "       [0.86656831, 0.66955252, 0.77308568, 0.44463939, 0.2252608 ],\n",
       "       [0.69912354, 0.77240168, 0.55381344, 0.83582001, 0.68247869],\n",
       "       [0.72775312, 0.40648311, 0.63605874, 0.16287378, 0.75578071],\n",
       "       [0.85774255, 0.54591585, 0.01802349, 0.94643708, 0.56647888],\n",
       "       [0.8812822 , 0.83325071, 0.47076871, 0.56122592, 0.4935374 ],\n",
       "       [0.33726477, 0.50274395, 0.57507604, 0.91988615, 0.4666092 ]])"
      ]
     },
     "execution_count": 55,
     "metadata": {},
     "output_type": "execute_result"
    }
   ],
   "source": [
    "df.to_dask_array().compute()"
   ]
  },
  {
   "cell_type": "code",
   "execution_count": 59,
   "metadata": {},
   "outputs": [
    {
     "data": {
      "text/plain": [
       "dask.array<array, shape=(10, 5), dtype=float64, chunksize=(5, 5)>"
      ]
     },
     "execution_count": 59,
     "metadata": {},
     "output_type": "execute_result"
    }
   ],
   "source": [
    "# return chunk-size of dask array\n",
    "df.to_dask_array(lengths=True)"
   ]
  },
  {
   "cell_type": "code",
   "execution_count": 58,
   "metadata": {},
   "outputs": [
    {
     "data": {
      "text/plain": [
       "array([[0.99629746, 0.16409777, 0.22680353, 0.75350057, 0.939182  ],\n",
       "       [0.87918309, 0.43229732, 0.98222631, 0.54707305, 0.32218534],\n",
       "       [0.17705935, 0.32080152, 0.63076997, 0.91587806, 0.11711293],\n",
       "       [0.89760352, 0.4182951 , 0.34324663, 0.63590565, 0.65903146],\n",
       "       [0.86656831, 0.66955252, 0.77308568, 0.44463939, 0.2252608 ],\n",
       "       [0.69912354, 0.77240168, 0.55381344, 0.83582001, 0.68247869],\n",
       "       [0.72775312, 0.40648311, 0.63605874, 0.16287378, 0.75578071],\n",
       "       [0.85774255, 0.54591585, 0.01802349, 0.94643708, 0.56647888],\n",
       "       [0.8812822 , 0.83325071, 0.47076871, 0.56122592, 0.4935374 ],\n",
       "       [0.33726477, 0.50274395, 0.57507604, 0.91988615, 0.4666092 ]])"
      ]
     },
     "execution_count": 58,
     "metadata": {},
     "output_type": "execute_result"
    }
   ],
   "source": [
    "# alt method\n",
    "df.values.compute()"
   ]
  },
  {
   "cell_type": "markdown",
   "metadata": {},
   "source": [
    "# sparse arrays"
   ]
  },
  {
   "cell_type": "code",
   "execution_count": 62,
   "metadata": {},
   "outputs": [],
   "source": [
    "import sparse"
   ]
  },
  {
   "cell_type": "code",
   "execution_count": 66,
   "metadata": {},
   "outputs": [],
   "source": [
    "xx = x.compute()"
   ]
  },
  {
   "cell_type": "code",
   "execution_count": 67,
   "metadata": {},
   "outputs": [],
   "source": [
    "xx[xx < 0.80] = 0"
   ]
  },
  {
   "cell_type": "code",
   "execution_count": 68,
   "metadata": {},
   "outputs": [
    {
     "data": {
      "text/plain": [
       "array([[0.99629746, 0.        , 0.        , 0.        , 0.939182  ],\n",
       "       [0.87918309, 0.        , 0.98222631, 0.        , 0.        ],\n",
       "       [0.        , 0.        , 0.        , 0.91587806, 0.        ],\n",
       "       [0.89760352, 0.        , 0.        , 0.        , 0.        ],\n",
       "       [0.86656831, 0.        , 0.        , 0.        , 0.        ],\n",
       "       [0.        , 0.        , 0.        , 0.83582001, 0.        ],\n",
       "       [0.        , 0.        , 0.        , 0.        , 0.        ],\n",
       "       [0.85774255, 0.        , 0.        , 0.94643708, 0.        ],\n",
       "       [0.8812822 , 0.83325071, 0.        , 0.        , 0.        ],\n",
       "       [0.        , 0.        , 0.        , 0.91988615, 0.        ]])"
      ]
     },
     "execution_count": 68,
     "metadata": {},
     "output_type": "execute_result"
    }
   ],
   "source": [
    "xx"
   ]
  },
  {
   "cell_type": "code",
   "execution_count": 71,
   "metadata": {},
   "outputs": [],
   "source": [
    "xxd = da.from_array(xx, chunks=(2, 2))"
   ]
  },
  {
   "cell_type": "code",
   "execution_count": 72,
   "metadata": {},
   "outputs": [],
   "source": [
    "s = xxd.map_blocks(sparse.COO)"
   ]
  },
  {
   "cell_type": "code",
   "execution_count": 77,
   "metadata": {},
   "outputs": [
    {
     "data": {
      "text/plain": [
       "<COO: shape=(5,), dtype=float64, nnz=5, fill_value=0.0>"
      ]
     },
     "execution_count": 77,
     "metadata": {},
     "output_type": "execute_result"
    }
   ],
   "source": [
    "s.sum(axis=0)[0:10].compute()  # computes the sum of each column"
   ]
  },
  {
   "cell_type": "code",
   "execution_count": 78,
   "metadata": {},
   "outputs": [
    {
     "data": {
      "text/plain": [
       "array([5.37867712, 0.83325071, 0.98222631, 3.6180213 , 0.939182  ])"
      ]
     },
     "execution_count": 78,
     "metadata": {},
     "output_type": "execute_result"
    }
   ],
   "source": [
    "_.todense()"
   ]
  },
  {
   "cell_type": "markdown",
   "metadata": {},
   "source": [
    "# Stats"
   ]
  },
  {
   "cell_type": "code",
   "execution_count": 79,
   "metadata": {},
   "outputs": [],
   "source": [
    "from dask.array import stats"
   ]
  },
  {
   "cell_type": "code",
   "execution_count": 80,
   "metadata": {},
   "outputs": [
    {
     "data": {
      "text/plain": [
       "(array(1.79911803), array(0.02079301), 0.0002198304752702045)"
      ]
     },
     "execution_count": 80,
     "metadata": {},
     "output_type": "execute_result"
    }
   ],
   "source": [
    "x = da.random.beta(1, 1, size=(1000,), chunks=10)\n",
    "k, s, m = [stats.kurtosis(x), stats.skew(x), stats.moment(x, 5)]\n",
    "dask.compute(k, s, m)"
   ]
  },
  {
   "cell_type": "code",
   "execution_count": 81,
   "metadata": {},
   "outputs": [],
   "source": [
    "# Statistical test"
   ]
  },
  {
   "cell_type": "code",
   "execution_count": 82,
   "metadata": {},
   "outputs": [
    {
     "data": {
      "text/plain": [
       "Ttest_relResult(statistic=1.2854467581843538, pvalue=0.20467856724449054)"
      ]
     },
     "execution_count": 82,
     "metadata": {},
     "output_type": "execute_result"
    }
   ],
   "source": [
    "a = da.random.uniform(size=(50,), chunks=(25,))\n",
    "b = a + da.random.uniform(low=-0.15, high=0.15, size=(50,), chunks=(25,))\n",
    "result = stats.ttest_rel(a, b)\n",
    "result.compute()"
   ]
  },
  {
   "cell_type": "markdown",
   "metadata": {},
   "source": [
    "# Stacking"
   ]
  },
  {
   "cell_type": "code",
   "execution_count": 87,
   "metadata": {},
   "outputs": [],
   "source": [
    "import dask.array as da\n",
    "import numpy as np"
   ]
  },
  {
   "cell_type": "code",
   "execution_count": 91,
   "metadata": {},
   "outputs": [],
   "source": [
    "a = np.zeros((3, 4))\n",
    "b = np.ones((3, 4))"
   ]
  },
  {
   "cell_type": "code",
   "execution_count": 93,
   "metadata": {},
   "outputs": [
    {
     "data": {
      "text/plain": [
       "array([[0., 0., 0., 0.],\n",
       "       [0., 0., 0., 0.],\n",
       "       [0., 0., 0., 0.]])"
      ]
     },
     "execution_count": 93,
     "metadata": {},
     "output_type": "execute_result"
    }
   ],
   "source": [
    "a"
   ]
  },
  {
   "cell_type": "code",
   "execution_count": 94,
   "metadata": {},
   "outputs": [
    {
     "data": {
      "text/plain": [
       "array([[1., 1., 1., 1.],\n",
       "       [1., 1., 1., 1.],\n",
       "       [1., 1., 1., 1.]])"
      ]
     },
     "execution_count": 94,
     "metadata": {},
     "output_type": "execute_result"
    }
   ],
   "source": [
    "b"
   ]
  },
  {
   "cell_type": "code",
   "execution_count": 92,
   "metadata": {},
   "outputs": [],
   "source": [
    "arr0 = da.from_array(a, chunks=(1, 2))\n",
    "arr1 = da.from_array(b, chunks=(1, 2))"
   ]
  },
  {
   "cell_type": "code",
   "execution_count": 85,
   "metadata": {},
   "outputs": [],
   "source": [
    "data = [arr0, arr1]"
   ]
  },
  {
   "cell_type": "code",
   "execution_count": 86,
   "metadata": {},
   "outputs": [
    {
     "data": {
      "text/plain": [
       "(2, 3, 4)"
      ]
     },
     "execution_count": 86,
     "metadata": {},
     "output_type": "execute_result"
    }
   ],
   "source": [
    "# stack axis 1\n",
    "x = da.stack(data, axis=0)\n",
    "x.shape"
   ]
  },
  {
   "cell_type": "code",
   "execution_count": 95,
   "metadata": {},
   "outputs": [
    {
     "data": {
      "text/plain": [
       "(3, 2, 4)"
      ]
     },
     "execution_count": 95,
     "metadata": {},
     "output_type": "execute_result"
    }
   ],
   "source": [
    "# stack axis 2\n",
    "x2 = da.stack(data, axis=1)\n",
    "x2.shape"
   ]
  },
  {
   "cell_type": "markdown",
   "metadata": {},
   "source": [
    "# Concatenate dask array"
   ]
  },
  {
   "cell_type": "code",
   "execution_count": 96,
   "metadata": {},
   "outputs": [
    {
     "data": {
      "text/plain": [
       "(6, 4)"
      ]
     },
     "execution_count": 96,
     "metadata": {},
     "output_type": "execute_result"
    }
   ],
   "source": [
    "x = da.concatenate(data, axis=0)\n",
    "x.shape"
   ]
  },
  {
   "cell_type": "code",
   "execution_count": 98,
   "metadata": {},
   "outputs": [
    {
     "data": {
      "text/plain": [
       "(3, 8)"
      ]
     },
     "execution_count": 98,
     "metadata": {},
     "output_type": "execute_result"
    }
   ],
   "source": [
    "x2 = da.concatenate(data, axis=1)\n",
    "x2.shape"
   ]
  },
  {
   "cell_type": "markdown",
   "metadata": {},
   "source": [
    "# Blocks "
   ]
  },
  {
   "cell_type": "code",
   "execution_count": 99,
   "metadata": {},
   "outputs": [],
   "source": [
    "data = [\n",
    "    [arr0, arr1],\n",
    "    [arr1, arr0]\n",
    "]"
   ]
  },
  {
   "cell_type": "code",
   "execution_count": 100,
   "metadata": {},
   "outputs": [
    {
     "data": {
      "text/plain": [
       "(6, 8)"
      ]
     },
     "execution_count": 100,
     "metadata": {},
     "output_type": "execute_result"
    }
   ],
   "source": [
    "x = da.block(data)\n",
    "x.shape"
   ]
  }
 ],
 "metadata": {
  "kernelspec": {
   "display_name": "Python 3",
   "language": "python",
   "name": "python3"
  },
  "language_info": {
   "codemirror_mode": {
    "name": "ipython",
    "version": 3
   },
   "file_extension": ".py",
   "mimetype": "text/x-python",
   "name": "python",
   "nbconvert_exporter": "python",
   "pygments_lexer": "ipython3",
   "version": "3.7.3"
  }
 },
 "nbformat": 4,
 "nbformat_minor": 2
}
